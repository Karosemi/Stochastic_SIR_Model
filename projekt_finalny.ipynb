{
 "cells": [
  {
   "cell_type": "code",
   "execution_count": 31,
   "metadata": {},
   "outputs": [],
   "source": [
    "import os\n",
    "import numpy as np\n",
    "import matplotlib.pyplot as plt\n",
    "from multiprocessing import Pool\n",
    "from matplotlib.colors import ListedColormap, LinearSegmentedColormap\n",
    "import pickle"
   ]
  },
  {
   "cell_type": "code",
   "execution_count": 18,
   "metadata": {},
   "outputs": [],
   "source": [
    "def open_pickle_file(filename):\n",
    "    with open(filename, 'rb') as file:\n",
    "        try:\n",
    "            return pickle.load(file)\n",
    "        except Exception:\n",
    "            print(f\"pickle.load of {filename} ended with an exception\")\n",
    "            raise\n",
    "            \n",
    "def save_pickle_file(object_to_save, filename):\n",
    "    with open(filename, 'wb') as file:\n",
    "        pickle.dump(object_to_save, file)\n",
    "\n",
    "def get_nearest_neighbours(curr_location, N):\n",
    "    #periodic boundary conditions\n",
    "    x = curr_location[0]\n",
    "    y = curr_location[1]\n",
    "    if x==0:\n",
    "        first_neighbor = (N-1, y)\n",
    "    else:\n",
    "        first_neighbor = (x-1, y)\n",
    "    if y == 0:\n",
    "        second_negihbor = (x, N-1)\n",
    "    else:\n",
    "        second_negihbor = (x, y-1)\n",
    "    if x == N-1:\n",
    "        third_neighbor = (0, y)\n",
    "    else:\n",
    "        third_neighbor = (x+1, y)\n",
    "    if y == N-1:\n",
    "        fourth_neighbor = (x, 0) \n",
    "    else:\n",
    "        fourth_neighbor = (x, y+1) \n",
    "    return [first_neighbor, second_negihbor, third_neighbor, fourth_neighbor]\n"
   ]
  },
  {
   "cell_type": "code",
   "execution_count": 3,
   "metadata": {},
   "outputs": [],
   "source": [
    "def plot_epidemic_state(lattice):\n",
    "    colormaps = [ListedColormap([\"darkorange\", \"gold\", \"lawngreen\"])]\n",
    "    n = len(colormaps)\n",
    "    fig, axs = plt.subplots(1, n, figsize=(n * 2 + 2, 3),\n",
    "                                constrained_layout=True, squeeze=False)\n",
    "    for [ax, cmap] in zip(axs.flat, colormaps):\n",
    "            psm = ax.pcolormesh(lattice, cmap=cmap, rasterized=True, vmin=0, vmax=2)\n",
    "            fig.colorbar(psm, ax=ax)\n",
    "    plt.show()"
   ]
  },
  {
   "cell_type": "code",
   "execution_count": 5,
   "metadata": {},
   "outputs": [],
   "source": [
    "def get_suspected_lattice(N, c):\n",
    "    lattice = np.full((N, N), S)\n",
    "    I_sites = []\n",
    "    a = np.random.randint(0, N)\n",
    "    b = np.random.randint(0, N)\n",
    "    first_site = (a,b)\n",
    "    I_sites.append(first_site)\n",
    "    lattice[first_site[0]][first_site[1]] = I\n",
    "    i = 0\n",
    "    r_number = 0\n",
    "    while len(I_sites)!=0:\n",
    "        if 0== len(I_sites)-1:\n",
    "        # if only one infected then we choose him\n",
    "            idx = 0\n",
    "        else:\n",
    "            idx= np.random.randint(0, len(I_sites)-1)\n",
    "        #idx of infected on the lattice\n",
    "        idxs = I_sites[idx]\n",
    "        if np.random.random()<=c:\n",
    "            lattice[idxs[0]][idxs[1]] = R\n",
    "            r_number += 1\n",
    "            #when infected became recovered then remove him from infected ones index list\n",
    "            del I_sites[idx]\n",
    "        else:\n",
    "            #define nearest negihvours\n",
    "            neighbours = get_nearest_neighbours(idxs, N)\n",
    "            neighbours_idx = np.random.randint(0,4)\n",
    "            neighbour_idx = neighbours[neighbours_idx]\n",
    "            neighbour = lattice[neighbour_idx[0]][neighbour_idx[1]]\n",
    "            if neighbour == S:\n",
    "                lattice[neighbour_idx[0]][neighbour_idx[1]] = I\n",
    "                I_sites.append(neighbour_idx)\n",
    "        i += 1\n",
    "        if  i% 20 ==0 and False:\n",
    "            plot_epidemic_state(lattice)\n",
    "#     recovered_numbers = get_recovered_number(lattice)\n",
    "#     plot_epidemic_state(lattice)\n",
    "#     plt.close()\n",
    "#     ratios = get_recovered_ratios(lattice)\n",
    "    \n",
    "    return lattice, r_number\n",
    "  \n",
    "#not used\n",
    "def get_recovered_ratios(lattice):\n",
    "    R_sum = 0.0\n",
    "    R_squared_sum = 0.0\n",
    "    for row in lattice:\n",
    "        value = len(np.where(row==R)[0])\n",
    "        R_sum += value\n",
    "        R_squared_sum += value**2\n",
    "    lattice_size = float(lattice.size)\n",
    "    return R_sum/  lattice_size, R_squared_sum/lattice_size\n",
    "\n",
    "def get_recovered_ratio(lattice):\n",
    "    R_sum = 0.0\n",
    "    for row in lattice:\n",
    "        R_sum += len(np.where(row==R)[0])\n",
    "    return R_sum/  float(lattice.size)"
   ]
  },
  {
   "cell_type": "code",
   "execution_count": 27,
   "metadata": {},
   "outputs": [
    {
     "name": "stdout",
     "output_type": "stream",
     "text": [
      "next value calculated for density: 0.68005126953125, next value u: 1.333680956180294\n",
      "next value calculated for density: 0.7236767578125, next value u: 1.2498312042778361\n",
      "next value calculated for density: 0.59870849609375, next value u: 1.471555428860276\n",
      "next value calculated for density: 0.663095703125, next value u: 1.3322281981599169\n",
      "next value calculated for density: 0.61586669921875, next value u: 1.3891435542935555\n",
      "next value calculated for density: 0.5878125, next value u: 1.445575538167771\n",
      "next value calculated for density: 0.47652099609375, next value u: 1.7129813190592336\n",
      "next value calculated for density: 0.547919921875, next value u: 1.464445875061365\n",
      "next value calculated for density: 0.472236328125, next value u: 1.6546926581148027\n",
      "next value calculated for density: 0.46975341796875, next value u: 1.5893545446232191\n",
      "next value calculated for density: 0.383154296875, next value u: 1.9115032756014658\n",
      "next value calculated for density: 0.34034912109375, next value u: 1.9961812798240368\n",
      "next value calculated for density: 0.244140625, next value u: 2.58339932\n",
      "next value calculated for density: 0.32721923828125, next value u: 1.8994270748137883\n",
      "next value calculated for density: 0.21447998046875, next value u: 2.619614762326953\n",
      "next value calculated for density: 0.182998046875, next value u: 2.5571450322809377\n",
      "next value calculated for density: 0.17423095703125, next value u: 2.5644890652042753\n",
      "next value calculated for density: 0.096630859375, next value u: 3.630694040839629\n",
      "next value calculated for density: 0.1012744140625, next value u: 3.1190554555242183\n",
      "next value calculated for density: 0.06402587890625, next value u: 4.7472856894895585\n"
     ]
    }
   ],
   "source": [
    "#define nearest neighbors - boundary conditions\n",
    "S = 0\n",
    "I = 1\n",
    "R = 2\n",
    "step = 20\n",
    "Ls = [64]\n",
    "L_values = []\n",
    "cs = np.linspace(0.15, 0.2, step)\n",
    "for idx, L in enumerate(Ls):\n",
    "# r_values = np.empty(step, float)\n",
    "# u_values = np.empty(step, float)\n",
    "    for i in range(step):\n",
    "        c = cs[i]\n",
    "        K = 100\n",
    "        recovered = []\n",
    "        for _ in range(K):\n",
    "            lattice, recovered_numbers = get_suspected_lattice(L, c)\n",
    "            recovered.append(recovered_numbers)\n",
    "        recovered = np.array(recovered)\n",
    "        \n",
    "        u = np.mean(recovered**2)/(np.mean(recovered))**2\n",
    "        ro = np.mean(recovered)/L**2\n",
    "        L_values.append((recovered , L**2,u,ro))\n",
    "        print(f\"next value calculated for density: {ro}\"\n",
    "              f\", next value u: {u}\")"
   ]
  },
  {
   "cell_type": "code",
   "execution_count": 28,
   "metadata": {},
   "outputs": [
    {
     "name": "stderr",
     "output_type": "stream",
     "text": [
      "c:\\program files\\python36\\lib\\site-packages\\ipykernel_launcher.py:1: VisibleDeprecationWarning: Creating an ndarray from ragged nested sequences (which is a list-or-tuple of lists-or-tuples-or ndarrays with different lengths or shapes) is deprecated. If you meant to do this, you must specify 'dtype=object' when creating the ndarray\n",
      "  \"\"\"Entry point for launching an IPython kernel.\n"
     ]
    }
   ],
   "source": [
    "L_array = np.array(L_values).transpose()\n",
    "U = L_array[2]\n",
    "Ro = L_array[3]"
   ]
  },
  {
   "cell_type": "code",
   "execution_count": 29,
   "metadata": {},
   "outputs": [
    {
     "data": {
      "text/plain": [
       "[<matplotlib.lines.Line2D at 0x189e0048978>]"
      ]
     },
     "execution_count": 29,
     "metadata": {},
     "output_type": "execute_result"
    },
    {
     "data": {
      "image/png": "[encoded data removed]",
      "text/plain": [
       "<Figure size 432x288 with 1 Axes>"
      ]
     },
     "metadata": {
      "needs_background": "light"
     },
     "output_type": "display_data"
    }
   ],
   "source": [
    "plt.plot(cs, Ro, 'o')"
   ]
  },
  {
   "cell_type": "code",
   "execution_count": 30,
   "metadata": {},
   "outputs": [
    {
     "data": {
      "text/plain": [
       "[<matplotlib.lines.Line2D at 0x189e027dac8>]"
      ]
     },
     "execution_count": 30,
     "metadata": {},
     "output_type": "execute_result"
    },
    {
     "data": {
      "image/png": "[encoded data removed]",
      "text/plain": [
       "<Figure size 432x288 with 1 Axes>"
      ]
     },
     "metadata": {
      "needs_background": "light"
     },
     "output_type": "display_data"
    }
   ],
   "source": [
    "plt.plot(cs, U, 'o')"
   ]
  },
  {
   "cell_type": "code",
   "execution_count": null,
   "metadata": {},
   "outputs": [],
   "source": [
    "L_array = np.array(L_values).transpose()\n",
    "U = L_array[2]\n",
    "Ro = L_array[3]"
   ]
  },
  {
   "cell_type": "code",
   "execution_count": 32,
   "metadata": {},
   "outputs": [],
   "source": [
    "files = \"files\"\n",
    "save_pickle_file(L_array, os.path.join(files, \"L_64.pkl\"))"
   ]
  },
  {
   "cell_type": "code",
   "execution_count": 44,
   "metadata": {},
   "outputs": [
    {
     "name": "stdout",
     "output_type": "stream",
     "text": [
      "next value calculated for density: 0.6824468994140624, next value u: 1.3333109148125222\n",
      "next value calculated for density: 0.6834568786621094, next value u: 1.3157493221574235\n",
      "next value calculated for density: 0.5516481018066406, next value u: 1.6124394061557286\n",
      "next value calculated for density: 0.5875070190429688, next value u: 1.492651695594065\n",
      "next value calculated for density: 0.5864002990722657, next value u: 1.4705159368861302\n",
      "next value calculated for density: 0.5317079162597657, next value u: 1.586590755494601\n",
      "next value calculated for density: 0.5671591186523437, next value u: 1.449307891293103\n",
      "next value calculated for density: 0.4830210876464844, next value u: 1.6399580646465117\n",
      "next value calculated for density: 0.4076274108886719, next value u: 1.852316067853545\n",
      "next value calculated for density: 0.30968643188476563, next value u: 2.2388786865634374\n",
      "next value calculated for density: 0.3222624206542969, next value u: 1.902150683601684\n",
      "next value calculated for density: 0.18705474853515625, next value u: 2.8088227164956745\n",
      "next value calculated for density: 0.10835983276367188, next value u: 3.6467073771085152\n",
      "next value calculated for density: 0.09957305908203125, next value u: 3.249167331263906\n",
      "next value calculated for density: 0.0384796142578125, next value u: 4.212039790880607\n",
      "next value calculated for density: 0.02125518798828125, next value u: 3.209754539407649\n",
      "next value calculated for density: 0.01318817138671875, next value u: 5.845118185056894\n",
      "next value calculated for density: 0.012689208984375, next value u: 5.990248114346238\n",
      "next value calculated for density: 0.007110748291015625, next value u: 4.20851446068437\n",
      "next value calculated for density: 0.005994720458984375, next value u: 4.455640710315069\n"
     ]
    }
   ],
   "source": [
    "#define nearest neighbors - boundary conditions\n",
    "S = 0\n",
    "I = 1\n",
    "R = 2\n",
    "step = 20\n",
    "Ls = [256]\n",
    "L_values = []\n",
    "cs = np.linspace(0.15, 0.2, step)\n",
    "for idx, L in enumerate(Ls):\n",
    "# r_values = np.empty(step, float)\n",
    "# u_values = np.empty(step, float)\n",
    "    for i in range(step):\n",
    "        c = cs[i]\n",
    "        K = 100\n",
    "        recovered = []\n",
    "        for _ in range(K):\n",
    "            lattice, recovered_numbers = get_suspected_lattice(L, c)\n",
    "            recovered.append(recovered_numbers)\n",
    "        recovered = np.array(recovered, dtype=np.uint64)\n",
    "        \n",
    "        u = np.mean(recovered**2)/(np.mean(recovered))**2\n",
    "        ro = np.mean(recovered)/L**2\n",
    "        L_values.append((recovered , L**2,u,ro))\n",
    "        print(f\"next value calculated for density: {ro}\"\n",
    "              f\", next value u: {u}\")"
   ]
  },
  {
   "cell_type": "code",
   "execution_count": 46,
   "metadata": {},
   "outputs": [
    {
     "name": "stderr",
     "output_type": "stream",
     "text": [
      "c:\\program files\\python36\\lib\\site-packages\\ipykernel_launcher.py:1: VisibleDeprecationWarning: Creating an ndarray from ragged nested sequences (which is a list-or-tuple of lists-or-tuples-or ndarrays with different lengths or shapes) is deprecated. If you meant to do this, you must specify 'dtype=object' when creating the ndarray\n",
      "  \"\"\"Entry point for launching an IPython kernel.\n"
     ]
    }
   ],
   "source": [
    "L_array = np.array(L_values).transpose()\n",
    "U = L_array[2]\n",
    "Ro = L_array[3]"
   ]
  },
  {
   "cell_type": "code",
   "execution_count": 51,
   "metadata": {},
   "outputs": [
    {
     "data": {
      "text/plain": [
       "[<matplotlib.lines.Line2D at 0x189df743908>]"
      ]
     },
     "execution_count": 51,
     "metadata": {},
     "output_type": "execute_result"
    },
    {
     "data": {
      "image/png": "[encoded data removed]",
      "text/plain": [
       "<Figure size 432x288 with 1 Axes>"
      ]
     },
     "metadata": {
      "needs_background": "light"
     },
     "output_type": "display_data"
    }
   ],
   "source": [
    "plt.plot(cs, Ro, 'o-')"
   ]
  },
  {
   "cell_type": "code",
   "execution_count": 50,
   "metadata": {},
   "outputs": [
    {
     "data": {
      "text/plain": [
       "[<matplotlib.lines.Line2D at 0x189e0236518>]"
      ]
     },
     "execution_count": 50,
     "metadata": {},
     "output_type": "execute_result"
    },
    {
     "data": {
      "image/png": "[encoded data removed]",
      "text/plain": [
       "<Figure size 432x288 with 1 Axes>"
      ]
     },
     "metadata": {
      "needs_background": "light"
     },
     "output_type": "display_data"
    }
   ],
   "source": [
    "plt.plot(cs, U, 'o-')"
   ]
  },
  {
   "cell_type": "code",
   "execution_count": 52,
   "metadata": {},
   "outputs": [],
   "source": [
    "files = \"files\"\n",
    "save_pickle_file(L_array, os.path.join(files, \"L_256.pkl\"))"
   ]
  },
  {
   "cell_type": "code",
   "execution_count": null,
   "metadata": {},
   "outputs": [
    {
     "name": "stdout",
     "output_type": "stream",
     "text": [
      "next value calculated for density: 0.5914678192138672, next value u: 1.5383864434539753\n",
      "next value calculated for density: 0.6475732421875, next value u: 1.388871586737577\n",
      "next value calculated for density: 0.6751603317260743, next value u: 1.3157658297027517\n",
      "next value calculated for density: 0.639543571472168, next value u: 1.3698548118736686\n",
      "next value calculated for density: 0.6200626373291016, next value u: 1.3887682535659283\n"
     ]
    }
   ],
   "source": [
    "#define nearest neighbors - boundary conditions\n",
    "S = 0\n",
    "I = 1\n",
    "R = 2\n",
    "step = 20\n",
    "Ls = [512]\n",
    "L_values = []\n",
    "cs = np.linspace(0.15, 0.2, step)\n",
    "for idx, L in enumerate(Ls):\n",
    "# r_values = np.empty(step, float)\n",
    "# u_values = np.empty(step, float)\n",
    "    for i in range(step):\n",
    "        c = cs[i]\n",
    "        K = 100\n",
    "        recovered = []\n",
    "        for _ in range(K):\n",
    "            lattice, recovered_numbers = get_suspected_lattice(L, c)\n",
    "            recovered.append(recovered_numbers)\n",
    "        recovered = np.array(recovered, dtype=np.uint64)\n",
    "        \n",
    "        u = np.mean(recovered**2)/(np.mean(recovered))**2\n",
    "        ro = np.mean(recovered)/L**2\n",
    "        L_values.append((recovered , L**2,u,ro))\n",
    "        print(f\"next value calculated for density: {ro}\"\n",
    "              f\", next value u: {u}\")"
   ]
  },
  {
   "cell_type": "code",
   "execution_count": 39,
   "metadata": {},
   "outputs": [
    {
     "data": {
      "text/plain": [
       "array([58515, 59360, 59892,    11, 59124, 59073, 59649,     1, 59548,\n",
       "       58813,     1, 59803, 58440, 58552, 59680, 59074,     2, 58963,\n",
       "           1,     1, 58251,     1,   129, 59145, 58670,    62, 59389,\n",
       "          13, 59075, 58850, 58513, 58944, 58562, 58862,     1, 59560,\n",
       "           2, 58168, 58677, 59034, 58921, 59251])"
      ]
     },
     "execution_count": 39,
     "metadata": {},
     "output_type": "execute_result"
    }
   ],
   "source": [
    "recovered"
   ]
  },
  {
   "cell_type": "code",
   "execution_count": 39,
   "metadata": {},
   "outputs": [
    {
     "data": {
      "text/plain": [
       "array([58515, 59360, 59892,    11, 59124, 59073, 59649,     1, 59548,\n",
       "       58813,     1, 59803, 58440, 58552, 59680, 59074,     2, 58963,\n",
       "           1,     1, 58251,     1,   129, 59145, 58670,    62, 59389,\n",
       "          13, 59075, 58850, 58513, 58944, 58562, 58862,     1, 59560,\n",
       "           2, 58168, 58677, 59034, 58921, 59251])"
      ]
     },
     "execution_count": 39,
     "metadata": {},
     "output_type": "execute_result"
    }
   ],
   "source": [
    "recovered"
   ]
  },
  {
   "cell_type": "code",
   "execution_count": 40,
   "metadata": {},
   "outputs": [],
   "source": [
    "u = np.mean(recovered**2)/(np.mean(recovered))**2"
   ]
  },
  {
   "cell_type": "code",
   "execution_count": 43,
   "metadata": {},
   "outputs": [
    {
     "data": {
      "text/plain": [
       "array([-870962071, -771357696, -707915632,        121, -799319920,\n",
       "       -805347967, -736964095,          1, -749002992, -835998327,\n",
       "                1, -718568487, -879733696, -866630592, -733264896,\n",
       "       -805229820,          4, -818331927,          1,          1,\n",
       "       -901788295,          1,      16641, -796836271, -852798396,\n",
       "             3844, -767913975,        169, -805111671, -831644796,\n",
       "       -871196127, -820572160, -865459452, -830232252,          1,\n",
       "       -747573696,          4, -911451072, -851976967, -809954140,\n",
       "       -823283055, -784286295], dtype=int32)"
      ]
     },
     "execution_count": 43,
     "metadata": {},
     "output_type": "execute_result"
    }
   ],
   "source": [
    "recovered**2"
   ]
  },
  {
   "cell_type": "code",
   "execution_count": 42,
   "metadata": {},
   "outputs": [
    {
     "data": {
      "text/plain": [
       "-580254427.3571428"
      ]
     },
     "execution_count": 42,
     "metadata": {},
     "output_type": "execute_result"
    }
   ],
   "source": [
    "np.mean(recovered**2)"
   ]
  },
  {
   "cell_type": "code",
   "execution_count": null,
   "metadata": {},
   "outputs": [],
   "source": [
    "L_array = np.array(L_values).transpose()\n",
    "U = L_array[2]\n",
    "Ro = L_array[3]"
   ]
  }
 ],
 "metadata": {
  "kernelspec": {
   "display_name": "Python 3",
   "language": "python",
   "name": "python3"
  },
  "language_info": {
   "codemirror_mode": {
    "name": "ipython",
    "version": 3
   },
   "file_extension": ".py",
   "mimetype": "text/x-python",
   "name": "python",
   "nbconvert_exporter": "python",
   "pygments_lexer": "ipython3",
   "version": "3.6.8"
  }
 },
 "nbformat": 4,
 "nbformat_minor": 4
}
